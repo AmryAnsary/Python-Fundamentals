{
 "cells": [
  {
   "cell_type": "markdown",
   "id": "d25a7a26",
   "metadata": {},
   "source": [
    "# These python codes will get your basics right! Have Fun!"
   ]
  },
  {
   "cell_type": "markdown",
   "id": "1069c10f",
   "metadata": {},
   "source": [
    "# Variables in Python"
   ]
  },
  {
   "cell_type": "code",
   "execution_count": 4,
   "id": "9daded3b",
   "metadata": {},
   "outputs": [
    {
     "name": "stdout",
     "output_type": "stream",
     "text": [
      "Chocolate\n",
      "Vanilla\n",
      "Strawberry\n"
     ]
    }
   ],
   "source": [
    "#Creating a List Variable\n",
    "ice_cream = ['Chocolate', 'Vanilla', 'Strawberry']\n",
    "x,y,z = ice_cream\n",
    "\n",
    "print(x)\n",
    "print(y)\n",
    "print(z)"
   ]
  },
  {
   "cell_type": "code",
   "execution_count": 6,
   "id": "1b9507d8",
   "metadata": {},
   "outputs": [],
   "source": [
    "# Camel case\n",
    "testVariabe = 'Vanilla'\n",
    "\n",
    "# Pascal case\n",
    "TestVariable = 'vanilla'\n",
    "\n",
    "# snake case\n",
    "test_variable = \"Vanilla\""
   ]
  },
  {
   "cell_type": "code",
   "execution_count": 7,
   "id": "f0ad9027",
   "metadata": {},
   "outputs": [
    {
     "name": "stdout",
     "output_type": "stream",
     "text": [
      "Ice Cream 2\n"
     ]
    }
   ],
   "source": [
    "x = 'Ice Cream'\n",
    "y = 2\n",
    "print(x,y)"
   ]
  },
  {
   "cell_type": "code",
   "execution_count": 3,
   "id": "9a67599a",
   "metadata": {},
   "outputs": [
    {
     "name": "stdout",
     "output_type": "stream",
     "text": [
      "\n",
      "sadasdsad\n",
      "asdasdas\n",
      "adasd\n",
      "\n"
     ]
    }
   ],
   "source": [
    "#multiple line comment\n",
    "multiline = \"\"\"\n",
    "sadasdsad\n",
    "asdasdas\n",
    "adasd\n",
    "\"\"\"\n",
    "print (multiline)"
   ]
  },
  {
   "cell_type": "markdown",
   "id": "f361a678",
   "metadata": {},
   "source": [
    "# Data Types"
   ]
  },
  {
   "cell_type": "code",
   "execution_count": 5,
   "id": "62cea8ec",
   "metadata": {},
   "outputs": [
    {
     "name": "stdout",
     "output_type": "stream",
     "text": [
      "Hello \n"
     ]
    }
   ],
   "source": [
    "a = 'Hello World'\n",
    "print(a[:6])"
   ]
  },
  {
   "cell_type": "code",
   "execution_count": 7,
   "id": "c959d78c",
   "metadata": {},
   "outputs": [
    {
     "data": {
      "text/plain": [
       "['Cookie Cream', 'Chocolate', 'Strawberry', 'Salted Caramel']"
      ]
     },
     "execution_count": 7,
     "metadata": {},
     "output_type": "execute_result"
    }
   ],
   "source": [
    "#Lists\n",
    "ice_cream = ['Cookie Cream', 'Chocolate', 'Strawberry']\n",
    "ice_cream.append('Salted Caramel')\n",
    "ice_cream"
   ]
  },
  {
   "cell_type": "code",
   "execution_count": 9,
   "id": "fff3f2a3",
   "metadata": {},
   "outputs": [
    {
     "data": {
      "text/plain": [
       "['Butter Pecan', 'Chocolate', 'Strawberry', 'Salted Caramel']"
      ]
     },
     "execution_count": 9,
     "metadata": {},
     "output_type": "execute_result"
    }
   ],
   "source": [
    "ice_cream[0] = 'Butter Pecan'\n",
    "ice_cream"
   ]
  },
  {
   "cell_type": "code",
   "execution_count": 11,
   "id": "95578558",
   "metadata": {},
   "outputs": [
    {
     "data": {
      "text/plain": [
       "'Spoon'"
      ]
     },
     "execution_count": 11,
     "metadata": {},
     "output_type": "execute_result"
    }
   ],
   "source": [
    "nest_list = ['Vanilla', 3,['Scoops','Spoon'],True]\n",
    "nest_list[2][1]"
   ]
  },
  {
   "cell_type": "code",
   "execution_count": 12,
   "id": "7ce016e5",
   "metadata": {},
   "outputs": [
    {
     "ename": "AttributeError",
     "evalue": "'tuple' object has no attribute 'append'",
     "output_type": "error",
     "traceback": [
      "\u001b[1;31m---------------------------------------------------------------------------\u001b[0m",
      "\u001b[1;31mAttributeError\u001b[0m                            Traceback (most recent call last)",
      "Cell \u001b[1;32mIn[12], line 3\u001b[0m\n\u001b[0;32m      1\u001b[0m \u001b[38;5;66;03m#Tuple - in tuple, u cannot change or add an item\u001b[39;00m\n\u001b[0;32m      2\u001b[0m tuple_scoops \u001b[38;5;241m=\u001b[39m (\u001b[38;5;241m1\u001b[39m,\u001b[38;5;241m2\u001b[39m,\u001b[38;5;241m3\u001b[39m,\u001b[38;5;241m4\u001b[39m,\u001b[38;5;241m2\u001b[39m,\u001b[38;5;241m2\u001b[39m,\u001b[38;5;241m1\u001b[39m)\n\u001b[1;32m----> 3\u001b[0m \u001b[43mtuple_scoops\u001b[49m\u001b[38;5;241;43m.\u001b[39;49m\u001b[43mappend\u001b[49m(\u001b[38;5;241m4\u001b[39m)\n",
      "\u001b[1;31mAttributeError\u001b[0m: 'tuple' object has no attribute 'append'"
     ]
    }
   ],
   "source": [
    "#Tuple - in tuple, u cannot change or add an item\n",
    "tuple_scoops = (1,2,3,4,2,2,1)\n",
    "tuple_scoops.append(4)"
   ]
  },
  {
   "cell_type": "code",
   "execution_count": 29,
   "id": "ae047980",
   "metadata": {},
   "outputs": [
    {
     "data": {
      "text/plain": [
       "{1, 2, 3, 4, 9, 21}"
      ]
     },
     "execution_count": 29,
     "metadata": {},
     "output_type": "execute_result"
    }
   ],
   "source": [
    "# Sets - in sets, it only consider the unique values\n",
    "daily_logs = {1,2,3,4,21,2,2,1,9}\n",
    "daily_logs"
   ]
  },
  {
   "cell_type": "code",
   "execution_count": 30,
   "id": "d9b13960",
   "metadata": {},
   "outputs": [
    {
     "data": {
      "text/plain": [
       "{0, 1, 2, 3, 4, 7, 8, 43}"
      ]
     },
     "execution_count": 30,
     "metadata": {},
     "output_type": "execute_result"
    }
   ],
   "source": [
    "# Now lets compare between two different sets\n",
    "wife_daily_logs = {1,2,3,4,43,0,7,8}\n",
    "wife_daily_logs"
   ]
  },
  {
   "cell_type": "code",
   "execution_count": 31,
   "id": "9324e8b6",
   "metadata": {},
   "outputs": [
    {
     "name": "stdout",
     "output_type": "stream",
     "text": [
      "{0, 1, 2, 3, 4, 7, 8, 9, 43, 21}\n"
     ]
    }
   ],
   "source": [
    "print(daily_logs | wife_daily_logs)"
   ]
  },
  {
   "cell_type": "code",
   "execution_count": 32,
   "id": "b54d67bf",
   "metadata": {},
   "outputs": [
    {
     "name": "stdout",
     "output_type": "stream",
     "text": [
      "{1, 2, 3, 4}\n"
     ]
    }
   ],
   "source": [
    "print(daily_logs & wife_daily_logs)"
   ]
  },
  {
   "cell_type": "code",
   "execution_count": 33,
   "id": "78dcdcbc",
   "metadata": {},
   "outputs": [
    {
     "name": "stdout",
     "output_type": "stream",
     "text": [
      "{9, 21}\n",
      "{0, 8, 43, 7}\n"
     ]
    }
   ],
   "source": [
    "print(daily_logs - wife_daily_logs)\n",
    "print(wife_daily_logs - daily_logs)"
   ]
  },
  {
   "cell_type": "code",
   "execution_count": 34,
   "id": "2da029dd",
   "metadata": {},
   "outputs": [
    {
     "name": "stdout",
     "output_type": "stream",
     "text": [
      "{0, 7, 8, 9, 43, 21}\n"
     ]
    }
   ],
   "source": [
    "#print outer of both sets\n",
    "print(daily_logs ^ wife_daily_logs)"
   ]
  },
  {
   "cell_type": "code",
   "execution_count": 36,
   "id": "697673eb",
   "metadata": {},
   "outputs": [
    {
     "data": {
      "text/plain": [
       "dict"
      ]
     },
     "execution_count": 36,
     "metadata": {},
     "output_type": "execute_result"
    }
   ],
   "source": [
    "#dictionaries\n",
    "#key/value pair\n",
    "\n",
    "dict_cream = {'name':'Amry Ansary', 'weekly intake':5, 'favourite ice creams': ['Vanilla','Chocolate']}\n",
    "type(dict_cream)"
   ]
  },
  {
   "cell_type": "code",
   "execution_count": 38,
   "id": "e59aa6e8",
   "metadata": {},
   "outputs": [
    {
     "data": {
      "text/plain": [
       "'Amry Ansary'"
      ]
     },
     "execution_count": 38,
     "metadata": {},
     "output_type": "execute_result"
    }
   ],
   "source": [
    "#this is how we call a dictionary (not using index)\n",
    "dict_cream['name']"
   ]
  },
  {
   "cell_type": "code",
   "execution_count": 39,
   "id": "608072f0",
   "metadata": {},
   "outputs": [
    {
     "name": "stdout",
     "output_type": "stream",
     "text": [
      "{'name': 'Amalina Amyrah', 'weekly intake': 5, 'favourite ice creams': ['Vanilla', 'Chocolate']}\n"
     ]
    }
   ],
   "source": [
    "dict_cream['name'] = 'Amalina Amyrah'\n",
    "print(dict_cream)"
   ]
  },
  {
   "cell_type": "code",
   "execution_count": 41,
   "id": "0e3619c2",
   "metadata": {},
   "outputs": [
    {
     "name": "stdout",
     "output_type": "stream",
     "text": [
      "{'name': 'Amalina Amyrah', 'weekly intake': 5, 'favourite ice creams': ['Vanilla', 'Chocolate'], 'weight': 300}\n"
     ]
    }
   ],
   "source": [
    "dict_cream.update({'name': 'Amalina Amyrah', 'weekly intake': 5, 'weight': 300})\n",
    "print(dict_cream)"
   ]
  },
  {
   "cell_type": "code",
   "execution_count": 42,
   "id": "59fa601b",
   "metadata": {},
   "outputs": [],
   "source": [
    "del dict_cream['weight']"
   ]
  },
  {
   "cell_type": "code",
   "execution_count": 43,
   "id": "0e8fe053",
   "metadata": {},
   "outputs": [
    {
     "name": "stdout",
     "output_type": "stream",
     "text": [
      "{'name': 'Amalina Amyrah', 'weekly intake': 5, 'favourite ice creams': ['Vanilla', 'Chocolate']}\n"
     ]
    }
   ],
   "source": [
    "print(dict_cream)"
   ]
  },
  {
   "cell_type": "markdown",
   "id": "0547bb91",
   "metadata": {},
   "source": [
    "# Logical Operator"
   ]
  },
  {
   "cell_type": "code",
   "execution_count": 46,
   "id": "aaa6c751",
   "metadata": {},
   "outputs": [
    {
     "data": {
      "text/plain": [
       "True"
      ]
     },
     "execution_count": 46,
     "metadata": {},
     "output_type": "execute_result"
    }
   ],
   "source": [
    "#AND is logical operator\n",
    "#> <. is comparison operator\n",
    "('Vanilla' > 'Chocalate') and (50>10)"
   ]
  },
  {
   "cell_type": "code",
   "execution_count": 47,
   "id": "0398c663",
   "metadata": {},
   "outputs": [
    {
     "data": {
      "text/plain": [
       "False"
      ]
     },
     "execution_count": 47,
     "metadata": {},
     "output_type": "execute_result"
    }
   ],
   "source": [
    "not(50>10)"
   ]
  },
  {
   "cell_type": "code",
   "execution_count": 48,
   "id": "22e58939",
   "metadata": {},
   "outputs": [
    {
     "data": {
      "text/plain": [
       "True"
      ]
     },
     "execution_count": 48,
     "metadata": {},
     "output_type": "execute_result"
    }
   ],
   "source": [
    "scoops = [1,2,3,6,7]\n",
    "wanted_scoops = 8\n",
    "\n",
    "wanted_scoops not in scoops"
   ]
  },
  {
   "cell_type": "markdown",
   "id": "2feda11c",
   "metadata": {},
   "source": [
    "# If-Elif-Else Statement"
   ]
  },
  {
   "cell_type": "code",
   "execution_count": 51,
   "id": "aebdf21c",
   "metadata": {},
   "outputs": [
    {
     "name": "stdout",
     "output_type": "stream",
     "text": [
      "It worked!\n",
      "This nested if statement worked!\n"
     ]
    }
   ],
   "source": [
    "if (25<15) or (10>5) :\n",
    "    print('It worked!')\n",
    "    if (12<14):\n",
    "        print('This nested if statement worked!')\n",
    "elif 25<40:\n",
    "    print('elif worked!')\n",
    "else:\n",
    "    print(\"It doesn't work...:\")"
   ]
  },
  {
   "cell_type": "markdown",
   "id": "46ae37fc",
   "metadata": {},
   "source": [
    "# For Loops"
   ]
  },
  {
   "cell_type": "code",
   "execution_count": 63,
   "id": "d8a5166d",
   "metadata": {},
   "outputs": [
    {
     "name": "stdout",
     "output_type": "stream",
     "text": [
      "2\n",
      "4\n",
      "6\n",
      "8\n",
      "10\n"
     ]
    }
   ],
   "source": [
    "\"\"\"For loop is going to iterate over the entire sequence reqgardless of the condition, while loops is going to iterate over that \n",
    "sequence as long as the condition is met\n",
    "\"\"\"\n",
    "\n",
    "integers = [1,2,3,4,5]\n",
    "\n",
    "for number in integers:\n",
    "    print(number + number)"
   ]
  },
  {
   "cell_type": "code",
   "execution_count": 54,
   "id": "01cdba57",
   "metadata": {},
   "outputs": [
    {
     "name": "stdout",
     "output_type": "stream",
     "text": [
      "Amry Ansary\n",
      "5\n",
      "['MCC', 'Chocolate']\n"
     ]
    }
   ],
   "source": [
    "ice_cream_dict = {'name': 'Amry Ansary', 'weekly intake':5, 'favourite ice creams': ['MCC','Chocolate']}\n",
    "\n",
    "for cream in ice_cream_dict.values():\n",
    "    print(cream)"
   ]
  },
  {
   "cell_type": "code",
   "execution_count": 55,
   "id": "97b3fd2b",
   "metadata": {},
   "outputs": [
    {
     "name": "stdout",
     "output_type": "stream",
     "text": [
      "name -> Amry Ansary\n",
      "weekly intake -> 5\n",
      "favourite ice creams -> ['MCC', 'Chocolate']\n"
     ]
    }
   ],
   "source": [
    "for keys, values in ice_cream_dict.items():\n",
    "    print(keys, '->', values)"
   ]
  },
  {
   "cell_type": "markdown",
   "id": "9fca826b",
   "metadata": {},
   "source": [
    "# Nested For Loops"
   ]
  },
  {
   "cell_type": "code",
   "execution_count": 56,
   "id": "b0a97471",
   "metadata": {},
   "outputs": [],
   "source": [
    "flavors = ['Vanilla', 'Chocolate', 'Cookie Dough']\n",
    "toppings = ['Hot Fudge', 'Oreos', 'Marshmellow']"
   ]
  },
  {
   "cell_type": "code",
   "execution_count": 59,
   "id": "7a598e50",
   "metadata": {},
   "outputs": [
    {
     "name": "stdout",
     "output_type": "stream",
     "text": [
      "Vanilla topped with Hot Fudge\n",
      "Vanilla topped with Oreos\n",
      "Vanilla topped with Marshmellow\n",
      "Chocolate topped with Hot Fudge\n",
      "Chocolate topped with Oreos\n",
      "Chocolate topped with Marshmellow\n",
      "Cookie Dough topped with Hot Fudge\n",
      "Cookie Dough topped with Oreos\n",
      "Cookie Dough topped with Marshmellow\n"
     ]
    }
   ],
   "source": [
    "for one in flavors:\n",
    "    for two in toppings:\n",
    "        print(one, 'topped with', two)"
   ]
  },
  {
   "cell_type": "markdown",
   "id": "d8720e66",
   "metadata": {},
   "source": [
    "# While Loops"
   ]
  },
  {
   "cell_type": "code",
   "execution_count": 67,
   "id": "b0c4f87d",
   "metadata": {},
   "outputs": [
    {
     "name": "stdout",
     "output_type": "stream",
     "text": [
      "0\n",
      "1\n",
      "2\n",
      "3\n"
     ]
    }
   ],
   "source": [
    "number = 0\n",
    "while (number<5):\n",
    "    print(number)\n",
    "    if number == 3:\n",
    "        break\n",
    "    number = number + 1\n",
    "else:\n",
    "    print('No longer < 5')d"
   ]
  },
  {
   "cell_type": "code",
   "execution_count": null,
   "id": "5b043fad",
   "metadata": {},
   "outputs": [],
   "source": [
    "#infinite Loop\n",
    "number = 0\n",
    "while (number<5):\n",
    "    print(number)\n",
    "    if number == 3:\n",
    "        continue\n",
    "    number = number + 1\n",
    "else:\n",
    "    print('No longer < 5')"
   ]
  },
  {
   "cell_type": "code",
   "execution_count": 69,
   "id": "2db51c80",
   "metadata": {},
   "outputs": [
    {
     "name": "stdout",
     "output_type": "stream",
     "text": [
      "1\n",
      "2\n",
      "4\n",
      "5\n",
      "No longer < 5\n"
     ]
    }
   ],
   "source": [
    "number = 0\n",
    "while (number<5):\n",
    "    number = number + 1\n",
    "    \n",
    "    if number == 3:\n",
    "        continue\n",
    "    print(number)\n",
    "    \n",
    "else:\n",
    "    print('No longer < 5')"
   ]
  },
  {
   "cell_type": "markdown",
   "id": "828d87bb",
   "metadata": {},
   "source": [
    "# Functions"
   ]
  },
  {
   "cell_type": "code",
   "execution_count": 71,
   "id": "bbd5107d",
   "metadata": {},
   "outputs": [],
   "source": [
    "def first_function():\n",
    "    print('We did it!')"
   ]
  },
  {
   "cell_type": "code",
   "execution_count": 72,
   "id": "3411d787",
   "metadata": {},
   "outputs": [
    {
     "name": "stdout",
     "output_type": "stream",
     "text": [
      "We did it!\n"
     ]
    }
   ],
   "source": [
    "first_function()"
   ]
  },
  {
   "cell_type": "code",
   "execution_count": 73,
   "id": "ba7559be",
   "metadata": {},
   "outputs": [],
   "source": [
    "def number_squared(number):\n",
    "    print(number**2)"
   ]
  },
  {
   "cell_type": "code",
   "execution_count": 74,
   "id": "c36e0760",
   "metadata": {},
   "outputs": [
    {
     "name": "stdout",
     "output_type": "stream",
     "text": [
      "25\n"
     ]
    }
   ],
   "source": [
    "number_squared(5)"
   ]
  },
  {
   "cell_type": "code",
   "execution_count": 75,
   "id": "0a11b1d1",
   "metadata": {},
   "outputs": [],
   "source": [
    "def number_squared_cust(number,power):\n",
    "    print(number**power)"
   ]
  },
  {
   "cell_type": "code",
   "execution_count": 76,
   "id": "f1431c24",
   "metadata": {},
   "outputs": [
    {
     "name": "stdout",
     "output_type": "stream",
     "text": [
      "25\n"
     ]
    }
   ],
   "source": [
    "number_squared_cust(5,2)"
   ]
  },
  {
   "cell_type": "code",
   "execution_count": 77,
   "id": "bced76b6",
   "metadata": {},
   "outputs": [],
   "source": [
    "#Arbitrary argument\n",
    "args_tuple = (1,2,3,4)\n",
    "\n",
    "def arbit_args(*number):\n",
    "    print(number[0] * number[1])"
   ]
  },
  {
   "cell_type": "code",
   "execution_count": 78,
   "id": "7a46de44",
   "metadata": {},
   "outputs": [
    {
     "name": "stdout",
     "output_type": "stream",
     "text": [
      "2\n"
     ]
    }
   ],
   "source": [
    "arbit_args(*args_tuple)"
   ]
  },
  {
   "cell_type": "code",
   "execution_count": null,
   "id": "d6497cc7",
   "metadata": {},
   "outputs": [],
   "source": [
    "#keywords argument"
   ]
  },
  {
   "cell_type": "code",
   "execution_count": 79,
   "id": "dcd69e99",
   "metadata": {},
   "outputs": [],
   "source": [
    "def number_squared_cust(number,power):\n",
    "    print(number**power)"
   ]
  },
  {
   "cell_type": "code",
   "execution_count": 80,
   "id": "c286d16f",
   "metadata": {},
   "outputs": [
    {
     "name": "stdout",
     "output_type": "stream",
     "text": [
      "32\n"
     ]
    }
   ],
   "source": [
    "number_squared_cust(power = 5, number = 2)"
   ]
  },
  {
   "cell_type": "code",
   "execution_count": 92,
   "id": "903e478c",
   "metadata": {},
   "outputs": [],
   "source": [
    "#arbitrary keyword arguments\n",
    "def number_kwarg(**number):\n",
    "    print('My number is: ' + number['integer'])"
   ]
  },
  {
   "cell_type": "code",
   "execution_count": 93,
   "id": "e8596df3",
   "metadata": {},
   "outputs": [
    {
     "name": "stdout",
     "output_type": "stream",
     "text": [
      "My number is: 2310\n"
     ]
    }
   ],
   "source": [
    "number_kwarg(integer = '2310')"
   ]
  },
  {
   "cell_type": "markdown",
   "id": "501fb527",
   "metadata": {},
   "source": [
    "# Converting Data Types"
   ]
  },
  {
   "cell_type": "code",
   "execution_count": 7,
   "id": "9eecc785",
   "metadata": {},
   "outputs": [],
   "source": [
    "num_int = 2\n",
    "num_str = '7'"
   ]
  },
  {
   "cell_type": "code",
   "execution_count": 11,
   "id": "42992552",
   "metadata": {},
   "outputs": [
    {
     "data": {
      "text/plain": [
       "int"
      ]
     },
     "execution_count": 11,
     "metadata": {},
     "output_type": "execute_result"
    }
   ],
   "source": [
    "num_str_conv = int(num_str)\n",
    "type (num_str_conv)"
   ]
  },
  {
   "cell_type": "code",
   "execution_count": 16,
   "id": "8918a761",
   "metadata": {},
   "outputs": [
    {
     "data": {
      "text/plain": [
       "9"
      ]
     },
     "execution_count": 16,
     "metadata": {},
     "output_type": "execute_result"
    }
   ],
   "source": [
    "num_sum = num_int + num_str_conv\n",
    "num_sum"
   ]
  },
  {
   "cell_type": "code",
   "execution_count": 19,
   "id": "ef724473",
   "metadata": {},
   "outputs": [],
   "source": [
    "lists = [1,2,3,4,5,5,7,8,2]"
   ]
  },
  {
   "cell_type": "code",
   "execution_count": 20,
   "id": "c8c0e820",
   "metadata": {},
   "outputs": [
    {
     "data": {
      "text/plain": [
       "{1, 2, 3, 4, 5, 7, 8}"
      ]
     },
     "execution_count": 20,
     "metadata": {},
     "output_type": "execute_result"
    }
   ],
   "source": [
    "set(lists)"
   ]
  },
  {
   "cell_type": "code",
   "execution_count": null,
   "id": "de2d7621",
   "metadata": {},
   "outputs": [],
   "source": []
  }
 ],
 "metadata": {
  "kernelspec": {
   "display_name": "Python 3 (ipykernel)",
   "language": "python",
   "name": "python3"
  },
  "language_info": {
   "codemirror_mode": {
    "name": "ipython",
    "version": 3
   },
   "file_extension": ".py",
   "mimetype": "text/x-python",
   "name": "python",
   "nbconvert_exporter": "python",
   "pygments_lexer": "ipython3",
   "version": "3.11.7"
  }
 },
 "nbformat": 4,
 "nbformat_minor": 5
}
